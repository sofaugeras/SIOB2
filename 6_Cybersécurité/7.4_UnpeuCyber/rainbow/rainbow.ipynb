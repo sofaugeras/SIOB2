{
 "cells": [
  {
   "cell_type": "markdown",
   "metadata": {},
   "source": [
    "# Génération et utilisation d'une rainbow Table\n",
    "\n",
    "Auteur : sophie Faugeras"
   ]
  },
  {
   "cell_type": "markdown",
   "metadata": {},
   "source": [
    "## Etape 1 : génération d'une rainbow Table\n",
    "\n",
    "Le projet [Richelieu](https://github.com/tarraschk/richelieu/), créé par les développeurs Maxime Alay-Eddine et Paul Barbaste, établit une liste des mots de passe français les plus courants. Ceux-ci proviennent de fuites de données rendues publiques, filtrées sur les adresses e-mail en « .fr ».\n",
    "\n",
    "\n",
    "Par simplication de performance, nous utiliserons un fichier réduit contenant les 1000 mots de passe français les plus utilisés [ici](./data/french_passwords_top1000.txt)."
   ]
  },
  {
   "cell_type": "markdown",
   "metadata": {},
   "source": [
    "### Les étapes de construction\n",
    "- Ouverture et lecture du fichier txt\n",
    "- Création d'un dictionnaire clé-valeur, dont la clé est le mot de passe en clair et la valeur l'empreinte du mot de passe.\n",
    "- Pour chaque ligne, calcul de l'empreinte MD5 du mot de passe.\n",
    "- Ecriture d'un fichier CSV pour sauvegarder le dictionnaire"
   ]
  },
  {
   "cell_type": "code",
   "execution_count": 2,
   "metadata": {},
   "outputs": [],
   "source": [
    "import hashlib\n",
    "\n",
    "# Dictionnaire pour stocker les mots de passe générés et leurs hachages MD5\n",
    "passwords = {}\n",
    "\n",
    "#ouverture du fichier contenant les mots de passe\n",
    "with open(\"./data/french_passwords_top1000.txt\", \"r\") as file:\n",
    "    #pour chaque mot de passe, on créé un hachage MD5 et on stocke le mot de passe et son hachage dans le dictionnaire\n",
    "    for line in file:   \n",
    "        password = line.strip()\n",
    "        password_hash = hashlib.md5(password.encode()).hexdigest()\n",
    "        passwords[password] = password_hash \n",
    "        \n",
    "#Sauvegarde des hachages dans un fichier\n",
    "with open(\"./data/md5_passwords.csv\", \"w\") as file:\n",
    "    for password, hash in passwords.items():\n",
    "        file.write(password + ';' +hash + \"\\n\")\n",
    "        \n",
    "#fermeture du fichier\n",
    "file.close()"
   ]
  },
  {
   "cell_type": "markdown",
   "metadata": {},
   "source": [
    "## Etape 2 : Utilisation de la rainbow Table\n",
    "\n",
    "Scénario : un utilisateur saisi un mot de passe dans un formulaire, qui est immédiatement chiffrer à l'aide l'algorithme MD5. Un hacker réussit grâce à une lecture de trame réseau à capter cette empreinte. \n",
    "\n"
   ]
  },
  {
   "cell_type": "markdown",
   "metadata": {},
   "source": [
    "### Les étapes de construction\n",
    "- Ouverture et lecture du fichier csv\n",
    "- Création d'un dictionnaire clé-valeur, dont la clé est le mot de passe en clair et la valeur l'empreinte du mot de passe.\n",
    "- Pour chaque ligne, comparaison de l'empreinte captée et de la valeur dans le dictionnaire.\n",
    "- Si on trouve l'empreinte, retournez le mot de passe en clair, sinon retournez \"Non trouvé\""
   ]
  },
  {
   "cell_type": "code",
   "execution_count": 12,
   "metadata": {},
   "outputs": [
    {
     "name": "stdout",
     "output_type": "stream",
     "text": [
      "5ebe2294ecd0e0f08eab7690d2a6ee69\n"
     ]
    },
    {
     "data": {
      "text/plain": [
       "'Le mot de passe associé au hachage 5ebe2294ecd0e0f08eab7690d2a6ee69 est secret'"
      ]
     },
     "execution_count": 12,
     "metadata": {},
     "output_type": "execute_result"
    }
   ],
   "source": [
    "def find_password(hash):\n",
    "    passwords = {}\n",
    "    #ouverture du fichier contenant les hachages MD5\n",
    "    with open(\"./data/md5_passwords.csv\", \"r\") as file:\n",
    "        #on lit le fichier ligne par ligne pour le mettre dans un dictionnaire\n",
    "        for line in file:\n",
    "            password, empreinte = line.strip().split(';')\n",
    "            passwords[password] = empreinte\n",
    "    \n",
    "    #On vérifie si le hachage est dans le dictionnaire\n",
    "    if hash in passwords.values():\n",
    "        #si le hachage est dans le dictionnaire, on affiche le mot de passe correspondant\n",
    "        for password, password_hash in passwords.items():\n",
    "            if password_hash == hash:\n",
    "                return (f\"Le mot de passe associé au hachage {hash} est {password}\")\n",
    "            #sinon on affiche que le mot de passe n'a pas été trouvé\n",
    "    return(f\"Le mot de passe associé au hachage {hash} n'a pas été trouvé\")\n",
    "\n",
    "hash = hashlib.md5(\"secret\".encode()).hexdigest() #5ebe2294ecd0e0f08eab7690d2a6ee69\n",
    "find_password(hash)"
   ]
  },
  {
   "cell_type": "markdown",
   "metadata": {},
   "source": [
    "## La notion de salage \n"
   ]
  }
 ],
 "metadata": {
  "kernelspec": {
   "display_name": "base",
   "language": "python",
   "name": "python3"
  },
  "language_info": {
   "codemirror_mode": {
    "name": "ipython",
    "version": 3
   },
   "file_extension": ".py",
   "mimetype": "text/x-python",
   "name": "python",
   "nbconvert_exporter": "python",
   "pygments_lexer": "ipython3",
   "version": "3.11.4"
  }
 },
 "nbformat": 4,
 "nbformat_minor": 2
}
