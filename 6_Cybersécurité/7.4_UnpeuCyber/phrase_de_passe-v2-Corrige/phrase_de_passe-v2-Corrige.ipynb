{
 "cells": [
  {
   "cell_type": "markdown",
   "id": "f05e3c71",
   "metadata": {},
   "source": [
    "**Auteur : Hélène Passelande**\n",
    "\n",
    "## Objectifs :\n",
    "réutiliser les fonctions  \n",
    "savoir lire et utiliser une documentation de fonction  \n",
    "\n",
    "\n",
    "## Le scénario :\n",
    "Un utilisateur souhaite construire un mot de passe fort pour sécuriser un document.\n",
    "\n",
    "## Construire un mot de passe assez fort et facilement mémorisable.\n",
    "\n",
    "### Description\n",
    "Pour construire un mot de passe assez fort et facilement mémorisable, une technique consiste à retenir les initiales des mots d'une phrase code.  \n",
    "Par exemple : J'adore passer mes vacances à réaliser des devoirs maison.  \n",
    "Donne : Japmvàrddm  \n",
    "Pour augmenter la sécurité du mot de passe, on peut décider de mettre aléatoirement certaines lettres en majuscules.  Attention pour que le mot de passe reste facile à écrire au clavier, on n'aura pas de majuscules accentuées !  \n",
    "Cela donne : JApMvARDdm  \n",
    "Pour augmenter encore la sécurité, on décide de mettre un chiffre dans le mot de passe.  \n",
    "Ca donne : JAp5MvARDdm  \n",
    "\n",
    "### Les étapes de construction\n",
    "Un utilisateur saisit un chiffre et une phrase de passe.   \n",
    "- On vérifie que le chiffre est bien un entier entre 0 et 9. \n",
    "- On transforme les apostrophes et les signes de ponctuation en espace  \n",
    "- On vérifie qu'il y a plus de 8 mots séparés par des espaces\n",
    "  \n",
    "Pour obtenir le mot de passe  :\n",
    "\n",
    "- on récupère la première lettre de chaque mot\n",
    "- on convertit les lettres accentuées en lettres non accentuées\n",
    "- si la lettre est minuscule, on la convertit au hasard en minuscule ou majuscule\n",
    "- on ajoute au hasard le chiffre quelque part dans la chaine de caractères.  "
   ]
  },
  {
   "cell_type": "markdown",
   "id": "b8028c43",
   "metadata": {},
   "source": [
    "# Au travail !\n",
    "\n",
    "Compléter la fonction `convertir_ponctuation`qui convertit les apostrophes et les signes de ponctuation de la phrase en espaces."
   ]
  },
  {
   "cell_type": "code",
   "execution_count": 26,
   "id": "563de538",
   "metadata": {},
   "outputs": [],
   "source": [
    "def convertir_ponctuation(phrase) :\n",
    "    \"\"\"\n",
    "    convertir les apostrophes et les signes de ponctuation de la phrase en espaces\n",
    "    PARAM\n",
    "    -----\n",
    "    phrase(str) : phrase saisie par l'utilisateur\n",
    "    \n",
    "    RETURN\n",
    "    ------\n",
    "    (str) : phrase saisie par l'utilisateur avec des espaces à la place des apostrophes et des signes de ponctuation\n",
    "    \n",
    "    EXAMPLES \n",
    "    --------\n",
    "    >>> convertir_ponctuation(\"J'adore passer mes vacances à réaliser des devoirs maison\")\n",
    "    \"J adore passer mes vacances à réaliser des devoirs maison\"\n",
    "    \n",
    "    >>> convertir_ponctuation(\"J''aime avec une faute de frappe\")\n",
    "    \"J  aime avec une faute de frappe\"\n",
    "\n",
    "    >>> convertir_ponctuation(\"Voilà : écoute, ce que je te dis !\")\n",
    "    \"Voilà   écoute  ce que je te dis  \"\n",
    "    \"\"\"\n",
    "    phrase_sans_ponctuation = \"\"\n",
    "    for i in range(len(phrase)) :\n",
    "        if phrase[i] in [\"'\",\":\",\",\",\";\",\"!\",\".\",\"?\"] :\n",
    "            phrase_sans_ponctuation = phrase_sans_ponctuation + \" \"\n",
    "        else :\n",
    "            phrase_sans_ponctuation = phrase_sans_ponctuation + phrase[i]\n",
    "    return phrase_sans_ponctuation"
   ]
  },
  {
   "cell_type": "code",
   "execution_count": 23,
   "id": "f3ce0742",
   "metadata": {},
   "outputs": [
    {
     "data": {
      "text/plain": [
       "'J adore passer mes vacances à réaliser des devoirs maison '"
      ]
     },
     "execution_count": 23,
     "metadata": {},
     "output_type": "execute_result"
    }
   ],
   "source": [
    "convertir_ponctuation(\"J'adore passer mes vacances à réaliser des devoirs maison.\")"
   ]
  },
  {
   "cell_type": "code",
   "execution_count": 24,
   "id": "266b89b8",
   "metadata": {},
   "outputs": [
    {
     "data": {
      "text/plain": [
       "'J  aime avec une faute de frappe'"
      ]
     },
     "execution_count": 24,
     "metadata": {},
     "output_type": "execute_result"
    }
   ],
   "source": [
    "convertir_ponctuation(\"J''aime avec une faute de frappe\")"
   ]
  },
  {
   "cell_type": "code",
   "execution_count": 25,
   "id": "b9ef734a",
   "metadata": {},
   "outputs": [
    {
     "data": {
      "text/plain": [
       "'Voilà   écoute  ce que je te dis  '"
      ]
     },
     "execution_count": 25,
     "metadata": {},
     "output_type": "execute_result"
    }
   ],
   "source": [
    "convertir_ponctuation(\"Voilà : écoute, ce que je te dis !\")"
   ]
  },
  {
   "cell_type": "markdown",
   "id": "66e74a82",
   "metadata": {},
   "source": [
    "Il faut maintenant vérifier que la phrase contient plus de 8 mots.  \n",
    "Pour compter le nombre de mots, on va compter le nombre de fois où on trouve un caractère qui est un espace suivi d'un caractère qui n'est pas un espace.  \n",
    "Dans ce cas, pour détecter le premier mot, il faut ajouter un espace au début de la phrase s'il n'y en a pas.  \n",
    "\n",
    "En suivant cette règle, compléter la fonction `verifier_plus_de_huit_mots`."
   ]
  },
  {
   "cell_type": "code",
   "execution_count": 41,
   "id": "a63362e4",
   "metadata": {},
   "outputs": [],
   "source": [
    "def verifier_plus_de_huit_mots(phrase) :\n",
    "    \"\"\"\n",
    "    vérifier que la phrase contient plus de 8 mots\n",
    "    PARAM\n",
    "    -----\n",
    "    phrase(str) : phrase saisie par l'utilisateur où il n'y a plus de ponctuation et \n",
    "                  chaque mot est séparé par des espaces\n",
    "    \n",
    "    RETURN\n",
    "    ------\n",
    "    (bool) : vrai si la phrase contient plus de 8 mots\n",
    "    \n",
    "    EXAMPLES \n",
    "    --------\n",
    "    >>> verifier_plus_de_huit_mots(\"C est trop court\")\n",
    "    False\n",
    "    >>> verifier_plus_de_huit_mots(\"C est trop         court\")\n",
    "    False\n",
    "    >>> verifier_plus_de_huit_mots(\"J adore passer mes vacances à réaliser des devoirs maison\")\n",
    "    True\n",
    "    \"\"\"\n",
    "    # on ajoute un espace pour premier caractère s'il n'y en pas pas\n",
    "    if phrase[0] != ' ':\n",
    "        phrase =  ' ' + phrase\n",
    "    # pour compter le nombre de mots, on cherche le début de chaque mot\n",
    "    # en testant chaque caractère de la phrase,\n",
    "    # on détecte le début d'un mot parce qu'il contient un espace suivi d'une lettre \n",
    "    nb_mots = 0\n",
    "    for i in range(len(phrase)-1):\n",
    "        if phrase[i] == ' ' and phrase[i+1] != ' ' :\n",
    "            nb_mots = nb_mots + 1\n",
    "    #debug\n",
    "    #print(\"nb mots \", nb_mots)\n",
    "    if nb_mots < 8 :\n",
    "        return False\n",
    "    else :\n",
    "        return True"
   ]
  },
  {
   "cell_type": "code",
   "execution_count": 42,
   "id": "01656aac",
   "metadata": {},
   "outputs": [
    {
     "data": {
      "text/plain": [
       "False"
      ]
     },
     "execution_count": 42,
     "metadata": {},
     "output_type": "execute_result"
    }
   ],
   "source": [
    "verifier_plus_de_huit_mots(\"C est trop court\")"
   ]
  },
  {
   "cell_type": "code",
   "execution_count": 43,
   "id": "108da5e8",
   "metadata": {},
   "outputs": [
    {
     "data": {
      "text/plain": [
       "False"
      ]
     },
     "execution_count": 43,
     "metadata": {},
     "output_type": "execute_result"
    }
   ],
   "source": [
    "verifier_plus_de_huit_mots(\"C est trop         court\")"
   ]
  },
  {
   "cell_type": "code",
   "execution_count": 44,
   "id": "9f3f764c",
   "metadata": {},
   "outputs": [
    {
     "data": {
      "text/plain": [
       "True"
      ]
     },
     "execution_count": 44,
     "metadata": {},
     "output_type": "execute_result"
    }
   ],
   "source": [
    "verifier_plus_de_huit_mots(\"J adore passer mes vacances à réaliser des devoirs maison\")"
   ]
  },
  {
   "cell_type": "markdown",
   "id": "8466af8e",
   "metadata": {},
   "source": [
    "On vérifie que le chiffre est bien un entier entre 0 et 9.  \n",
    "Compléter la fonction `verifier_chiffre`."
   ]
  },
  {
   "cell_type": "code",
   "execution_count": 53,
   "id": "2075456d",
   "metadata": {},
   "outputs": [],
   "source": [
    "def verifier_chiffre(chiffre) :\n",
    "    \"\"\"\n",
    "    vérifier que le chiffre est bien un entier entre 0 et 9.\n",
    "    PARAM\n",
    "    -----\n",
    "    chiffre(int) : chiffre saisi par l'utilisateur\n",
    "    \n",
    "    RETURN\n",
    "    ------\n",
    "    (bool) : vrai si le chiffre est bien un entier entre 0 et 9.\n",
    "    \n",
    "    EXAMPLES \n",
    "    --------\n",
    "    >>> verifier_chiffre(5.3)\n",
    "    AssertionError: Il faut donner un nombre entier !\n",
    "    >>> verifier_chiffre(7)\n",
    "    True\n",
    "    >>> verifier_chiffre(10)\n",
    "    AssertionError: Il faut nombre entier entre 0 et 9 !\n",
    "    \"\"\"\n",
    "    assert type(chiffre) == int , \"Il faut donner un nombre entier !\"\n",
    "    assert 0 <= chiffre <= 9, \"Il faut nombre entier entre 0 et 9 !\"\n",
    "    return True"
   ]
  },
  {
   "cell_type": "code",
   "execution_count": 55,
   "id": "7ba05c29",
   "metadata": {},
   "outputs": [
    {
     "ename": "AssertionError",
     "evalue": "Il faut donner un nombre entier !",
     "output_type": "error",
     "traceback": [
      "\u001b[1;31m---------------------------------------------------------------------------\u001b[0m",
      "\u001b[1;31mAssertionError\u001b[0m                            Traceback (most recent call last)",
      "\u001b[1;32m<ipython-input-55-699a6690dbe7>\u001b[0m in \u001b[0;36m<module>\u001b[1;34m\u001b[0m\n\u001b[1;32m----> 1\u001b[1;33m \u001b[0mverifier_chiffre\u001b[0m\u001b[1;33m(\u001b[0m\u001b[1;36m5.3\u001b[0m\u001b[1;33m)\u001b[0m\u001b[1;33m\u001b[0m\u001b[1;33m\u001b[0m\u001b[0m\n\u001b[0m",
      "\u001b[1;32m<ipython-input-53-1eaaaf47921e>\u001b[0m in \u001b[0;36mverifier_chiffre\u001b[1;34m(chiffre)\u001b[0m\n\u001b[0;32m     19\u001b[0m     \u001b[0mAssertionError\u001b[0m\u001b[1;33m:\u001b[0m \u001b[0mIl\u001b[0m \u001b[0mfaut\u001b[0m \u001b[0mnombre\u001b[0m \u001b[0mentier\u001b[0m \u001b[0mentre\u001b[0m \u001b[1;36m0\u001b[0m \u001b[0met\u001b[0m \u001b[1;36m9\u001b[0m\u001b[0;31m \u001b[0m\u001b[0;31m!\u001b[0m\u001b[1;33m\u001b[0m\u001b[1;33m\u001b[0m\u001b[0m\n\u001b[0;32m     20\u001b[0m     \"\"\"\n\u001b[1;32m---> 21\u001b[1;33m     \u001b[1;32massert\u001b[0m \u001b[0mtype\u001b[0m\u001b[1;33m(\u001b[0m\u001b[0mchiffre\u001b[0m\u001b[1;33m)\u001b[0m \u001b[1;33m==\u001b[0m \u001b[0mint\u001b[0m \u001b[1;33m,\u001b[0m \u001b[1;34m\"Il faut donner un nombre entier !\"\u001b[0m\u001b[1;33m\u001b[0m\u001b[1;33m\u001b[0m\u001b[0m\n\u001b[0m\u001b[0;32m     22\u001b[0m     \u001b[1;32massert\u001b[0m \u001b[1;36m0\u001b[0m \u001b[1;33m<=\u001b[0m \u001b[0mchiffre\u001b[0m \u001b[1;33m<=\u001b[0m \u001b[1;36m9\u001b[0m\u001b[1;33m,\u001b[0m \u001b[1;34m\"Il faut nombre entier entre 0 et 9 !\"\u001b[0m\u001b[1;33m\u001b[0m\u001b[1;33m\u001b[0m\u001b[0m\n\u001b[0;32m     23\u001b[0m     \u001b[1;32mreturn\u001b[0m \u001b[1;32mTrue\u001b[0m\u001b[1;33m\u001b[0m\u001b[1;33m\u001b[0m\u001b[0m\n",
      "\u001b[1;31mAssertionError\u001b[0m: Il faut donner un nombre entier !"
     ]
    }
   ],
   "source": [
    "verifier_chiffre(5.3)"
   ]
  },
  {
   "cell_type": "code",
   "execution_count": 51,
   "id": "a5f0d00f",
   "metadata": {},
   "outputs": [
    {
     "data": {
      "text/plain": [
       "True"
      ]
     },
     "execution_count": 51,
     "metadata": {},
     "output_type": "execute_result"
    }
   ],
   "source": [
    "verifier_chiffre(7)"
   ]
  },
  {
   "cell_type": "code",
   "execution_count": 52,
   "id": "bd28407b",
   "metadata": {},
   "outputs": [
    {
     "ename": "AssertionError",
     "evalue": "Il faut nombre entier entre 0 et 9 !",
     "output_type": "error",
     "traceback": [
      "\u001b[1;31m---------------------------------------------------------------------------\u001b[0m",
      "\u001b[1;31mAssertionError\u001b[0m                            Traceback (most recent call last)",
      "\u001b[1;32m<ipython-input-52-a6b341408307>\u001b[0m in \u001b[0;36m<module>\u001b[1;34m\u001b[0m\n\u001b[1;32m----> 1\u001b[1;33m \u001b[0mverifier_chiffre\u001b[0m\u001b[1;33m(\u001b[0m\u001b[1;36m10\u001b[0m\u001b[1;33m)\u001b[0m\u001b[1;33m\u001b[0m\u001b[1;33m\u001b[0m\u001b[0m\n\u001b[0m",
      "\u001b[1;32m<ipython-input-49-affa54426425>\u001b[0m in \u001b[0;36mverifier_chiffre\u001b[1;34m(chiffre)\u001b[0m\n\u001b[0;32m     20\u001b[0m     \"\"\"\n\u001b[0;32m     21\u001b[0m     \u001b[1;32massert\u001b[0m \u001b[0mtype\u001b[0m\u001b[1;33m(\u001b[0m\u001b[0mchiffre\u001b[0m\u001b[1;33m)\u001b[0m \u001b[1;33m==\u001b[0m \u001b[0mint\u001b[0m \u001b[1;33m,\u001b[0m \u001b[1;34m\"Il faut donner un nombre entier !\"\u001b[0m\u001b[1;33m\u001b[0m\u001b[1;33m\u001b[0m\u001b[0m\n\u001b[1;32m---> 22\u001b[1;33m     \u001b[1;32massert\u001b[0m \u001b[1;36m0\u001b[0m \u001b[1;33m<=\u001b[0m \u001b[0mchiffre\u001b[0m \u001b[1;33m<=\u001b[0m \u001b[1;36m9\u001b[0m\u001b[1;33m,\u001b[0m \u001b[1;34m\"Il faut nombre entier entre 0 et 9 !\"\u001b[0m\u001b[1;33m\u001b[0m\u001b[1;33m\u001b[0m\u001b[0m\n\u001b[0m\u001b[0;32m     23\u001b[0m     \u001b[1;32mreturn\u001b[0m \u001b[1;32mTrue\u001b[0m\u001b[1;33m\u001b[0m\u001b[1;33m\u001b[0m\u001b[0m\n",
      "\u001b[1;31mAssertionError\u001b[0m: Il faut nombre entier entre 0 et 9 !"
     ]
    }
   ],
   "source": [
    "verifier_chiffre(10)"
   ]
  },
  {
   "cell_type": "markdown",
   "id": "b4a921da",
   "metadata": {},
   "source": [
    "Il faut maintenant récupérer les initiales de chaque mot pour créer la première version du mot de passe.  \n",
    "On détecte la première lettre de chaque mot de la même façon que pour la fonction `verifier_plus_de_huit_mots`.  \n",
    "Puis, on crée un algorithme de cumul qui concatène les premières lettres de chaque mot."
   ]
  },
  {
   "cell_type": "code",
   "execution_count": 45,
   "id": "f95bf97b",
   "metadata": {},
   "outputs": [],
   "source": [
    "def obtenir_premieres_lettres(phrase):\n",
    "    \"\"\"\n",
    "    créer un mot constitué des premières lettres de chaque mot de la phrase\n",
    "    PARAM\n",
    "    -----\n",
    "    phrase(str) : phrase saisie par l'utilisateur où chaque mot est séparé par des espaces\n",
    "    \n",
    "    RETURN\n",
    "    ------\n",
    "    (str) : mot constitué des premières lettres de chaque mot de la phrase\n",
    "    \n",
    "    EXAMPLES \n",
    "    --------\n",
    "    >>> obtenir_premieres_lettres(\"J adore passer mes vacances à réaliser des devoirs maison\")\n",
    "    Japmvàrddm\n",
    "    >>> obtenir_premieres_lettres(\"Le petit chien s appelle            Idéfix\")\n",
    "    LpcsaI\n",
    "    \"\"\"\n",
    "    # on ajoute un espace pour premier caractère s'il n'y en pas pas\n",
    "    if phrase[0] != ' ':\n",
    "        phrase =  ' ' + phrase\n",
    "    \n",
    "    mot_de_passe = \"\"\n",
    "    \n",
    "    # en testant chaque caractère de la phrase,\n",
    "    # on détecte le début d'un mot parce qu'il contient un espace suivi d'une lettre \n",
    "    # on concatène les premières lettres pour créer le mot de passe\n",
    "    for i in range(len(phrase)-1):\n",
    "        if phrase[i] == ' ' and phrase[i+1] != ' ' :\n",
    "            mot_de_passe = mot_de_passe + phrase[i+1]\n",
    "            \n",
    "    return mot_de_passe  "
   ]
  },
  {
   "cell_type": "code",
   "execution_count": 46,
   "id": "b38a798a",
   "metadata": {},
   "outputs": [
    {
     "data": {
      "text/plain": [
       "'Japmvàrddm'"
      ]
     },
     "execution_count": 46,
     "metadata": {},
     "output_type": "execute_result"
    }
   ],
   "source": [
    "obtenir_premieres_lettres(\"J adore passer mes vacances à réaliser des devoirs maison\")"
   ]
  },
  {
   "cell_type": "code",
   "execution_count": 47,
   "id": "5bf0a36c",
   "metadata": {},
   "outputs": [
    {
     "data": {
      "text/plain": [
       "'LpcsaI'"
      ]
     },
     "execution_count": 47,
     "metadata": {},
     "output_type": "execute_result"
    }
   ],
   "source": [
    "obtenir_premieres_lettres(\"Le petit chien s appelle            Idéfix\")"
   ]
  },
  {
   "cell_type": "markdown",
   "id": "1a06d664",
   "metadata": {},
   "source": [
    "On suppose que l'utilisateur n'a pas utilisé de majuscule accentuée.  \n",
    "Pour convertir les minuscules accentuées en en leur équivalent non accentué :   \n",
    "1. Chercher toutes les minuscules accentuées possibles en français pour compléter la fonction `convertir_sans_accent`.\n",
    "2. Dans cette fonction, on itère sur chaque caractère de `mot`.    \n",
    "    1.  Si le caractère est une minuscule accentuée, on attribue à la variable `nv_caractère` l'équivalent non accentué du caractère.  \n",
    "    2. Si le caractère est une minuscule accentuée, on attribue à la variable `nv_caractère` ce caractère."
   ]
  },
  {
   "cell_type": "code",
   "execution_count": 62,
   "id": "09655754",
   "metadata": {},
   "outputs": [],
   "source": [
    "def convertir_sans_accent(mot):\n",
    "    \"\"\"\n",
    "    convertir les lettres accentuées du mot en leur équivalent non accentué\"\n",
    "    PARAM\n",
    "    -----\n",
    "    mot(str) : une chaine de caractères\n",
    "    \n",
    "    RETURN\n",
    "    ------\n",
    "    (str) : la même chaine de caractères sans les accents\n",
    "    \n",
    "    EXAMPLES \n",
    "    --------\n",
    "    >>> convertir_sans_accent(\"Japmvàrddm\")\n",
    "    Japmvarddm\n",
    "    >>> convertir_sans_accent(\"àêïôù\")\n",
    "    aeiou\n",
    "    \"\"\"\n",
    "    mot_sans_accent = \"\"\n",
    "    for caractere in mot :\n",
    "        if caractere in ['à','â']:\n",
    "            nv_caractere = 'a'\n",
    "        elif caractere == 'ç':\n",
    "            nv_caractere = 'c'\n",
    "        elif caractere in ['é','è','ê','ë']:\n",
    "            nv_caractere = 'e'\n",
    "        elif caractere in ['î','ï']:\n",
    "            nv_caractere = 'i'\n",
    "        elif caractere == 'ô':\n",
    "            nv_caractere = 'o'\n",
    "        elif caractere in['ù','û','ü']:\n",
    "            nv_caractere = 'u'\n",
    "        else :\n",
    "            nv_caractere = caractere\n",
    "        mot_sans_accent = mot_sans_accent + nv_caractere   \n",
    "    return mot_sans_accent"
   ]
  },
  {
   "cell_type": "code",
   "execution_count": 63,
   "id": "915a499e",
   "metadata": {},
   "outputs": [
    {
     "data": {
      "text/plain": [
       "'Japmvarddm'"
      ]
     },
     "execution_count": 63,
     "metadata": {},
     "output_type": "execute_result"
    }
   ],
   "source": [
    "convertir_sans_accent(\"Japmvàrddm\")"
   ]
  },
  {
   "cell_type": "code",
   "execution_count": 64,
   "id": "a9206b1d",
   "metadata": {},
   "outputs": [
    {
     "data": {
      "text/plain": [
       "'aeiou'"
      ]
     },
     "execution_count": 64,
     "metadata": {},
     "output_type": "execute_result"
    }
   ],
   "source": [
    "convertir_sans_accent(\"àêïôù\")"
   ]
  },
  {
   "cell_type": "markdown",
   "id": "5198ce98",
   "metadata": {},
   "source": [
    "En regardant le code ASCII, on peut voir que le code décimal de chaque lettre majuscule et minuscule a un écart de 32.  \n",
    "Par exemple :  \n",
    "A(65)  et a(97) : 97 - 65 = 32\n",
    "D(68) et d(100) : 100 - 68 = 32\n",
    "P(80) et p(112) : 112 - 80 = 32\n",
    "\n",
    "On peut donc convertir une minuscule en sa majuscule en otant 32 à son code décimal en ASCII.\n",
    "\n",
    "Utiliser cette particularité du code ASCII pour compléter la fonction `convertir_majuscule_minuscule_aleatoire`."
   ]
  },
  {
   "cell_type": "code",
   "execution_count": 89,
   "id": "41e786b1",
   "metadata": {},
   "outputs": [],
   "source": [
    "from random import randint\n",
    "\n",
    "def convertir_majuscule_minuscule_aleatoire(lettre):\n",
    "    \"\"\"\n",
    "    convertir aléatoirement une lettre minuscule en majuscule ou minuscule\n",
    "    PARAM\n",
    "    -----\n",
    "    lettre(str) : une lettre minuscule non accentuée de l'alphabet\n",
    "    \n",
    "    RETURN\n",
    "    ------\n",
    "    (str) : la même lettre en majuscule ou en minuscule\n",
    "    \n",
    "    EXAMPLES \n",
    "    --------\n",
    "    >>> convertir_majuscule_minuscule_aleatoire(\"a\")\n",
    "    a\n",
    "    \n",
    "    ou aléatoirement\n",
    "    \n",
    "    >>> convertir_majuscule_minuscule_aleatoire(\"a\")\n",
    "    A\n",
    "    \"\"\"\n",
    "    # on choisit au hasard 0 ou 1\n",
    "    alea = randint(0,1)\n",
    "    # si le hasard a désigné 1 alors on convertit la lettre en majuscule\n",
    "    if alea :\n",
    "        lettre = chr(ord(lettre)-32)\n",
    "    return lettre"
   ]
  },
  {
   "cell_type": "code",
   "execution_count": 93,
   "id": "cab1f978",
   "metadata": {},
   "outputs": [
    {
     "data": {
      "text/plain": [
       "'a'"
      ]
     },
     "execution_count": 93,
     "metadata": {},
     "output_type": "execute_result"
    }
   ],
   "source": [
    "convertir_majuscule_minuscule_aleatoire(\"a\")"
   ]
  },
  {
   "cell_type": "code",
   "execution_count": 88,
   "id": "ee77e252",
   "metadata": {},
   "outputs": [
    {
     "data": {
      "text/plain": [
       "'B'"
      ]
     },
     "execution_count": 88,
     "metadata": {},
     "output_type": "execute_result"
    }
   ],
   "source": [
    "convertir_majuscule_minuscule_aleatoire(\"B\")"
   ]
  },
  {
   "cell_type": "markdown",
   "id": "217b58a3",
   "metadata": {},
   "source": [
    "En utilisant le code ASCII, comment peut-on savoir si une lettre non accentuée est une majuscule ou une minuscule ?\n",
    "- Votre réponse : ...\n",
    "\n",
    "Compléter la fonction `modifier_mot_majuscule_minuscule(mot)` qui :\n",
    "- itère sur chaque lettre du mot\n",
    "- appelle, si la lettre est une minuscule, la fonction `convertir_majuscule_minuscule_aleatoire`\n",
    "- renvoie un nouveau mot de passe avec des minuscules parfois modifiées en majuscules."
   ]
  },
  {
   "cell_type": "code",
   "execution_count": 124,
   "id": "67d47fe3",
   "metadata": {},
   "outputs": [],
   "source": [
    "def modifier_mot_majuscule_minuscule(mot):\n",
    "    \"\"\"\n",
    "    convertir aléatoirement chaque lettre minuscule d'un mot en majuscule ou minuscule, \n",
    "    ne pas la modifier si elle est en majuscule\n",
    "    PARAM\n",
    "    -----\n",
    "    mot(str) : une chaine de caractères de lettres non accentuées\n",
    "    \n",
    "    RETURN\n",
    "    ------\n",
    "    (str) : le même mot avec des majuscules et des minuscules aléatoires\n",
    "    \n",
    "    EXAMPLES \n",
    "    --------\n",
    "    >>> modifier_mot_majuscule_minuscule(\"Japmvarddm\")\n",
    "    JApMvARDdm\n",
    "    \n",
    "    ou aleatoirement \n",
    "    \n",
    "    >>> modifier_mot_majuscule_minuscule(\"Japmvarddm\")\n",
    "    JaPMVarDDm\n",
    "    \n",
    "    >>> modifier_mot_majuscule_minuscule(\"ABCDefgh\")\n",
    "    ABCDeFgH\n",
    "    \"\"\"\n",
    "    nv_mot = \"\"\n",
    "    # on itère sur chaque lettre du mot \n",
    "    for lettre in mot :\n",
    "        # si la lettre est une minuscule\n",
    "        # on convertit aléatoirement cette lettre en majuscule ou minuscule\n",
    "        # on concatène le nouveau mot et cette nouvelle lettre \n",
    "        if 97 <= ord(lettre) <= 122 : #97 <= ord(lettre) suffirait\n",
    "            nv_lettre = convertir_majuscule_minuscule_aleatoire(lettre)\n",
    "            nv_mot = nv_mot + nv_lettre\n",
    "        # sinon on concatène le nouveau mot et cette lettre\n",
    "        else :\n",
    "            nv_mot = nv_mot + lettre\n",
    "    return nv_mot"
   ]
  },
  {
   "cell_type": "code",
   "execution_count": 130,
   "id": "52901f3f",
   "metadata": {},
   "outputs": [
    {
     "data": {
      "text/plain": [
       "'JaPmVARddM'"
      ]
     },
     "execution_count": 130,
     "metadata": {},
     "output_type": "execute_result"
    }
   ],
   "source": [
    "modifier_mot_majuscule_minuscule(\"Japmvarddm\")"
   ]
  },
  {
   "cell_type": "code",
   "execution_count": 145,
   "id": "2acf24c8",
   "metadata": {},
   "outputs": [
    {
     "data": {
      "text/plain": [
       "'ABCDEfGH'"
      ]
     },
     "execution_count": 145,
     "metadata": {},
     "output_type": "execute_result"
    }
   ],
   "source": [
    "modifier_mot_majuscule_minuscule(\"ABCDefgh\")"
   ]
  },
  {
   "cell_type": "markdown",
   "id": "44e014d4",
   "metadata": {},
   "source": [
    "Compléter la fonction `ajouter_chiffre` qui améliore la sécurité du mot de passe en ajoutant le chiffre quelque part dans le mot."
   ]
  },
  {
   "cell_type": "code",
   "execution_count": 152,
   "id": "8c5062e5",
   "metadata": {},
   "outputs": [],
   "source": [
    "def ajouter_chiffre(mot,chiffre):\n",
    "    \"\"\"\n",
    "    ajouter un chiffre quelque part dans le mot\n",
    "    PARAM\n",
    "    -----\n",
    "    mot(str) : une chaine de caractères\n",
    "    chiffre(int) : un chiffre\n",
    "    \n",
    "    RETURN\n",
    "    ------\n",
    "    (str) : le même mot mais avec un chiffre inséré quelquepart\n",
    "    \n",
    "    EXAMPLES \n",
    "    --------\n",
    "    >>> ajouter_chiffre(\"JApMvARDdm\",5)\n",
    "    'JApM5vARDdm'\n",
    "    \n",
    "    ou aléatoiremment \n",
    "    \n",
    "    >>> ajouter_chiffre(\"JApMvARDdm\",5)\n",
    "    'JApMvARDdm5'\n",
    "    \n",
    "    >>> ajouter_chiffre(\"aBcdEF\",9)\n",
    "    'a9BcdEF'\n",
    "    \"\"\"\n",
    "    max = len(mot)-1\n",
    "    alea = randint(0,max)\n",
    "    nv_mot = mot [:alea]+str(chiffre)+mot[alea:]\n",
    "    return nv_mot"
   ]
  },
  {
   "cell_type": "code",
   "execution_count": 159,
   "id": "be8c8368",
   "metadata": {},
   "outputs": [
    {
     "data": {
      "text/plain": [
       "'JApM5vARDdm'"
      ]
     },
     "execution_count": 159,
     "metadata": {},
     "output_type": "execute_result"
    }
   ],
   "source": [
    "ajouter_chiffre(\"JApMvARDdm\",5)"
   ]
  },
  {
   "cell_type": "code",
   "execution_count": 173,
   "id": "d3ff5ec7",
   "metadata": {},
   "outputs": [
    {
     "data": {
      "text/plain": [
       "'a9BcdEF'"
      ]
     },
     "execution_count": 173,
     "metadata": {},
     "output_type": "execute_result"
    }
   ],
   "source": [
    "ajouter_chiffre(\"aBcdEF\",9)"
   ]
  },
  {
   "cell_type": "markdown",
   "id": "e179fb5e",
   "metadata": {},
   "source": [
    "Le programme principal appelle toutes ces fonctions pour créer le mot de passe à l'aide de la saisie de l'utilisateur."
   ]
  },
  {
   "cell_type": "code",
   "execution_count": 205,
   "id": "d449ae54",
   "metadata": {},
   "outputs": [
    {
     "name": "stdout",
     "output_type": "stream",
     "text": [
      "Saisir un chiffre (pas un nombre !) : 4\n",
      "Saisir votre phrase de code de plus de 8 mots : J'adore passer mes vacances à réaliser des devoirs maison.\n",
      "Votre mot de passe est :  J4APMVARddm\n"
     ]
    }
   ],
   "source": [
    "###################################################\n",
    "#####    PROGRAMME PRINCIPAL DE LA PHASE 1    #####\n",
    "###################################################\n",
    "chiffre = int(input(\"Saisir un chiffre (pas un nombre !) : \"))\n",
    "if verifier_chiffre(chiffre) :\n",
    "    verif = False\n",
    "    while not verif :\n",
    "        phrase = input(\"Saisir votre phrase de code de plus de 8 mots : \")\n",
    "        phrase = convertir_ponctuation(phrase)\n",
    "        verif = verifier_plus_de_huit_mots(phrase)\n",
    "        if not verif :\n",
    "            print(\"Votre phrase est trop courte.\")\n",
    "mot_de_passe = obtenir_premieres_lettres(phrase)\n",
    "mot_de_passe = convertir_sans_accent(mot_de_passe)\n",
    "mot_de_passe = modifier_mot_majuscule_minuscule(mot_de_passe)\n",
    "mot_de_passe = ajouter_chiffre(mot_de_passe,chiffre)\n",
    "print(\"Votre mot de passe est : \", mot_de_passe)"
   ]
  }
 ],
 "metadata": {
  "kernelspec": {
   "display_name": "Python 3",
   "language": "python",
   "name": "python3"
  },
  "language_info": {
   "codemirror_mode": {
    "name": "ipython",
    "version": 3
   },
   "file_extension": ".py",
   "mimetype": "text/x-python",
   "name": "python",
   "nbconvert_exporter": "python",
   "pygments_lexer": "ipython3",
   "version": "3.7.7"
  }
 },
 "nbformat": 4,
 "nbformat_minor": 5
}
